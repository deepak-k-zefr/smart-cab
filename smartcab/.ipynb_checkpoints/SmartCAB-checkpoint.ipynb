{
 "cells": [
  {
   "cell_type": "markdown",
   "metadata": {},
   "source": [
    "# SMARTCAB PROJECT"
   ]
  },
  {
   "cell_type": "markdown",
   "metadata": {},
   "source": [
    "### To implement Q learning we need to define ###\n",
    "* State Space\n",
    "* The Learning Rate- Alpha\n",
    "* Discount factor - Gamma\n",
    "* Epsilon"
   ]
  },
  {
   "cell_type": "markdown",
   "metadata": {},
   "source": [
    "### Defining the State Space"
   ]
  },
  {
   "cell_type": "markdown",
   "metadata": {},
   "source": [
    "The state space can be defined based of the inputs that are sensed.\n",
    "* Lights- Green or Red\n",
    "* Oncoming - forward or None\n",
    "* Left - Left or none\n",
    "* Next Way Point- Left, Forward, Right, None\n",
    "\n",
    "\n",
    "\n",
    "The next way-point points the car towards the direction of the destination. So it is crucial. The other chosen variables are chosen so as to follow the traffic rules(**Lights**) and inorder to ensure that the car dosent crash with the other cars(**Oncoming and Left**). \n",
    "\n",
    "\n",
    "STATE= ( Color of Traffic Light, \n",
    "Is there an oncoming vehicle?,\n",
    "Any Vehicle on the Right?, \n",
    "What direction is the destination?)"
   ]
  },
  {
   "cell_type": "markdown",
   "metadata": {},
   "source": [
    "### NEW VARIABLES INITLAIZED"
   ]
  },
  {
   "cell_type": "markdown",
   "metadata": {},
   "source": [
    "### The Learning Rate- Alpha"
   ]
  },
  {
   "cell_type": "markdown",
   "metadata": {},
   "source": [
    "The learning rate determines to what extent the newly acquired information will override the old information. A factor of 0 will make the agent not learn anything, while a factor of 1 would make the agent consider only the most recent information. In fully deterministic environments, a learning rate of **alpha = 1** is optimal. \n",
    "\n",
    "\n",
    "When the problem is stochastic, the algorithm still converges under some technical conditions on the learning rate, that require it to decrease to zero. In practice, often a constant learning rate is used.\n",
    "\n",
    "In our case we choose alpha=1"
   ]
  },
  {
   "cell_type": "markdown",
   "metadata": {},
   "source": [
    "### Discount factor - Gamma"
   ]
  },
  {
   "cell_type": "markdown",
   "metadata": {},
   "source": [
    "The discount factor **gamma**  determines the importance of future rewards. \n",
    "\n",
    "A factor of 0 will make the agent \"myopic\" (or short-sighted) by only considering current rewards, while a factor approaching 1 will make it strive for a long-term high reward. \n",
    "\n",
    "If the discount factor meets or exceeds 1, the action values may diverge. For gamma =1, without a terminal state, or if the agent never reaches one, all environment histories will be infinitely long, and utilities with additive, undiscounted rewards will generally be infinite."
   ]
  },
  {
   "cell_type": "markdown",
   "metadata": {},
   "source": [
    "### Exploration -Exploitation value-Epsilon \n",
    "\n",
    "We introduce an additional term, epsilon. We then randomly generate a value, and if that value is less than epsilon, a random action is chosen, instead of following our normal tactic of choosing the max Q.\n",
    "\n",
    "The best strategy to choose a vale of epsilon is to start from a high value close to 1 and allow it to decay over time. This would be an optimal choice because initially we want the agent to explore a lot and build the Q learning state space and when and all the states are explore we can confidently say that a random action may not be able to produce a higher Q value compared to the Q max  defned in the state space.\n"
   ]
  },
  {
   "cell_type": "markdown",
   "metadata": {},
   "source": [
    "##"
   ]
  },
  {
   "cell_type": "markdown",
   "metadata": {},
   "source": [
    "### Finding the optimal policy\n",
    "* Optimal route can be defined as the shortest path to destination without violating the traffic rules and hitting other cars. This is clearly not possible to model in our case since we cannot attach  a permanent 'q- value'to a state even after infinite iterations because the traffic lights are stochastic and cannot be predicted before hand.\n",
    "* Optimal policy is determined by quantizing the enviorment to states and calculating the q-value for each state\n"
   ]
  },
  {
   "cell_type": "markdown",
   "metadata": {},
   "source": [
    "### Selecting action according to your policy"
   ]
  },
  {
   "cell_type": "markdown",
   "metadata": {},
   "source": [
    "#### 1. When you are exploring"
   ]
  },
  {
   "cell_type": "markdown",
   "metadata": {},
   "source": [
    "Pick a random action among\n",
    "   * Do nothing\n",
    "   * Move Left\n",
    "   * Move Right\n",
    "   * Move Forward"
   ]
  },
  {
   "cell_type": "markdown",
   "metadata": {},
   "source": [
    "#### 2. When you are exploiting"
   ]
  },
  {
   "cell_type": "markdown",
   "metadata": {},
   "source": [
    "**If state has been previously encountered**- \n",
    "* Choose the action that maximizes the reward\n",
    "* If there are multiple actions with same reward then pick a random action among them\n",
    "\n",
    "\n",
    "\n",
    "\n",
    "\n"
   ]
  },
  {
   "cell_type": "markdown",
   "metadata": {},
   "source": [
    "**If state has not been previously encountered**-\n",
    "* Pick a random action among\n",
    "         * Do nothing\n",
    "         * Move Left\n",
    "         * Move Right\n",
    "         * Move Forward\n",
    "\n",
    "* Q Update= Q0 for all the actions   \n",
    "\n"
   ]
  },
  {
   "cell_type": "markdown",
   "metadata": {},
   "source": [
    "### Q-Learning Formula"
   ]
  },
  {
   "cell_type": "code",
   "execution_count": 23,
   "metadata": {
    "collapsed": false,
    "scrolled": true
   },
   "outputs": [
    {
     "data": {
      "image/png": "[encoded data removed]",
      "text/plain": [
       "<IPython.core.display.Image object>"
      ]
     },
     "execution_count": 23,
     "metadata": {},
     "output_type": "execute_result"
    }
   ],
   "source": [
    "from IPython.display import Image \n",
    "Image(filename='image.png')\n",
    "### The equation that was used."
   ]
  },
  {
   "cell_type": "markdown",
   "metadata": {},
   "source": [
    "Before learning has started, ** Q ** returns a fixed value(10). Then, each time the agent selects an action, and observes a reward and a new state that may depend on both the previous state and the selected action,** Q** is updated.\n",
    "\n",
    "The core of the algorithm is a simple value iteration update. It assumes the old value and makes a correction based on the new information."
   ]
  },
  {
   "cell_type": "markdown",
   "metadata": {},
   "source": [
    "### Simulation details\n",
    "\n",
    "In addition to this, each trip has an associated timer that counts down every\n",
    "time step. If the timer is at 0 and the destination has not been reached, the\n",
    "trip is over, and a new one may start."
   ]
  },
  {
   "cell_type": "markdown",
   "metadata": {},
   "source": [
    "### Rewards\n",
    "The smartcab gets a reward for each successfully completed trip. A trip is\n",
    "considered “successfully completed” if the passenger is dropped off at the desired\n",
    "destination (some intersection) within a pre-specified time bound (computed\n",
    "with a route plan).\n",
    "It also gets a smaller reward for each correct move executed at an intersection.\n",
    "It gets a small penalty for an incorrect move, and a larger penalty for violating\n",
    "traffic rules and/or causing an accident."
   ]
  },
  {
   "cell_type": "markdown",
   "metadata": {},
   "source": [
    "### Goal\n",
    "Design the AI driving agent for the smartcab. It should receive the abovementioned\n",
    "inputs at each time step t, and generate an output move. Based on\n",
    "the rewards and penalties it gets, the agent should learn an optimal policy for\n",
    "driving on city roads, obeying traffic rules correctly, and trying to reach the\n",
    "destination within a goal time."
   ]
  },
  {
   "cell_type": "markdown",
   "metadata": {
    "collapsed": true
   },
   "source": [
    "### Enhanced the driving agent"
   ]
  },
  {
   "cell_type": "code",
   "execution_count": null,
   "metadata": {
    "collapsed": true
   },
   "outputs": [],
   "source": []
  },
  {
   "cell_type": "code",
   "execution_count": null,
   "metadata": {
    "collapsed": true
   },
   "outputs": [],
   "source": []
  },
  {
   "cell_type": "code",
   "execution_count": null,
   "metadata": {
    "collapsed": true
   },
   "outputs": [],
   "source": []
  },
  {
   "cell_type": "code",
   "execution_count": null,
   "metadata": {
    "collapsed": true
   },
   "outputs": [],
   "source": []
  },
  {
   "cell_type": "code",
   "execution_count": null,
   "metadata": {
    "collapsed": true
   },
   "outputs": [],
   "source": []
  },
  {
   "cell_type": "code",
   "execution_count": 32,
   "metadata": {
    "collapsed": true
   },
   "outputs": [],
   "source": [
    "q= [None, 'forward', 'left', 'right']"
   ]
  },
  {
   "cell_type": "code",
   "execution_count": 50,
   "metadata": {
    "collapsed": false
   },
   "outputs": [
    {
     "data": {
      "text/plain": [
       "'right'"
      ]
     },
     "execution_count": 50,
     "metadata": {},
     "output_type": "execute_result"
    }
   ],
   "source": [
    "random.choice(q)"
   ]
  },
  {
   "cell_type": "code",
   "execution_count": 76,
   "metadata": {
    "collapsed": false
   },
   "outputs": [
    {
     "data": {
      "text/plain": [
       "('b', 3000)"
      ]
     },
     "execution_count": 76,
     "metadata": {},
     "output_type": "execute_result"
    }
   ],
   "source": [
    "import operator\n",
    "stats = {'a':1000, 'b':3000, 'c': 100, 'd':3000}\n",
    "type(stats)\n",
    "max(stats.iteritems(), key=operator.itemgetter(1))"
   ]
  },
  {
   "cell_type": "code",
   "execution_count": 87,
   "metadata": {
    "collapsed": false
   },
   "outputs": [],
   "source": [
    "Q={('green', 'right', None, 'right'): {'forward': 4.75, 'left': 10, 'right': 10, None: 10}, ('red', None, 'forward', 'forward'): {'forward': 10, 'left': 10, 'right': 10, None: 5.0}, ('green', 'right', None, 'forward'): {'forward': 10, 'left': 4.5, 'right': 4.75, None: 10}, ('red', None, 'left', 'left'): {'forward': 4.5, 'left': 10, 'right': 10, None: 10}, ('red', None, 'right', 'right'): {'forward': 10, 'left': 10, 'right': 2.5, None: 10}, ('green', None, 'forward', 'forward'): {'forward': 6.0, 'left': 10, 'right': 10, None: 10}, ('green', None, 'forward', 'left'): {'forward': 10, 'left': 10, 'right': 2.125, None: 10}, ('green', 'forward', None, 'forward'): {'forward': 10, 'left': 10, 'right': 2.125, None: 10}, ('red', None, 'left', 'right'): {'forward': 10, 'left': 10, 'right': 10, None: 5.0}, ('green', None, 'forward', 'right'): {'forward': 4.75, 'left': 10, 'right': 2.0009765625, None: 10}, ('green', None, 'left', 'left'): {'forward': 4.75, 'left': 10, 'right': 2.125, None: 10}, ('red', 'left', None, 'forward'): {'forward': 10, 'left': 10, 'right': -0.171875, None: 10}, ('red', 'forward', None, 'forward'): {'forward': 10, 'left': 4.5, 'right': 0.15625, None: 10}, ('green', 'left', None, 'right'): {'forward': 10, 'left': 4.75, 'right': 2.5, None: 10}, ('red', 'right', None, 'right'): {'forward': 10, 'left': 4.5, 'right': 3.0, None: 10}, ('red', None, None, 'forward'): {'forward': 10, 'left': 10, 'right': -0.5, None: 10}, ('green', None, None, 'forward'): {'forward': 6.0, 'left': 10, 'right': -0.5, None: 10}, ('red', None, None, 'left'): {'forward': 10, 'left': 4.5, 'right': -0.5, None: 10}, ('red', 'right', None, 'forward'): {'forward': 10, 'left': 4.5, 'right': 10, None: 10}, ('green', 'left', None, 'left'): {'forward': 10, 'left': 10, 'right': 0.15625, None: 10}, ('green', None, 'right', 'left'): {'forward': 10, 'left': 10, 'right': 4.75, None: 10}, ('red', None, 'forward', 'left'): {'forward': 10, 'left': 10, 'right': 10, None: 10}, ('green', 'left', None, 'forward'): {'forward': 10, 'left': 4.75, 'right': 4.75, None: 10}, ('red', None, None, 'right'): {'forward': 10, 'left': 4.5, 'right': 2.0, None: 10}, ('green', 'forward', None, 'left'): {'forward': 10, 'left': 10, 'right': 10, None: 5.0}, ('green', None, None, 'right'): {'forward': 10, 'left': 10, 'right': 2.0, None: 5.0}, ('red', 'right', None, 'left'): {'forward': 10, 'left': 4.5, 'right': 4.75, None: 10}, ('green', 'forward', None, 'right'): {'forward': 4.75, 'left': 10, 'right': 6.0, None: 10}, ('red', 'forward', None, 'right'): {'forward': 10, 'left': 10, 'right': 3.0, None: 10}, ('red', 'left', None, 'right'): {'forward': 10, 'left': 10, 'right': 2.25, None: 5.0}, ('red', 'forward', None, 'left'): {'forward': 10, 'left': 10, 'right': 4.75, None: 10}, ('red', 'left', None, 'left'): {'forward': 4.5, 'left': 10, 'right': 0.15625, None: 10}, ('red', None, 'forward', 'right'): {'forward': 10, 'left': 10, 'right': 4.0, None: 5.0}, ('red', None, 'right', 'left'): {'forward': 10, 'left': 10, 'right': 2.125, None: 5.0}, ('green', None, None, 'left'): {'forward': 10, 'left': 10, 'right': -0.5, None: 5.0}, ('green', None, 'left', 'right'): {'forward': 4.75, 'left': 10, 'right': 2.03125, None: 10}, ('green', None, 'left', 'forward'): {'forward': 10, 'left': 10, 'right': 2.125, None: 5.0}}\n",
    "state=('green', None,  None, 'left')\n",
    "\n"
   ]
  },
  {
   "cell_type": "code",
   "execution_count": null,
   "metadata": {
    "collapsed": true
   },
   "outputs": [],
   "source": []
  }
 ],
 "metadata": {
  "kernelspec": {
   "display_name": "Python 2",
   "language": "python",
   "name": "python2"
  },
  "language_info": {
   "codemirror_mode": {
    "name": "ipython",
    "version": 2
   },
   "file_extension": ".py",
   "mimetype": "text/x-python",
   "name": "python",
   "nbconvert_exporter": "python",
   "pygments_lexer": "ipython2",
   "version": "2.7.6"
  }
 },
 "nbformat": 4,
 "nbformat_minor": 0
}
